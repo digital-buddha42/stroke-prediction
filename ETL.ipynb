{
 "cells": [
  {
   "cell_type": "markdown",
   "id": "26738175",
   "metadata": {},
   "source": [
    "# Project 4\n",
    "## Part 1: ETL Pipeline\n",
    "#### We have sourced over 5,000 records containing demographic and medical data to be used in an ML model that predicts risk of stroke based on such indicators as gender, age, history of heart disease, glucose level, etc. The data needs to be transformed in preparation for our model, as shown below. "
   ]
  },
  {
   "cell_type": "code",
   "execution_count": null,
   "id": "40cd1729",
   "metadata": {},
   "outputs": [],
   "source": [
    "## Load in the CSV\n",
    "import pandas as pd\n",
    "from pathlib import Path\n",
    "# Read stroke data\n",
    "file_path = Path(\"resources/healthcare-dataset-stroke-data.csv\")\n",
    "strokes_df = pd.read_csv(file_path)\n",
    "\n",
    "# Display data\n",
    "strokes_df.head()"
   ]
  },
  {
   "cell_type": "code",
   "execution_count": null,
   "id": "fea17172",
   "metadata": {},
   "outputs": [],
   "source": [
    "strokes_df.info()"
   ]
  },
  {
   "cell_type": "code",
   "execution_count": null,
   "id": "00587ba6",
   "metadata": {},
   "outputs": [],
   "source": [
    "# Mean fill all 'N/A' values in 'bmi'\n",
    "mean_bmi = round(strokes_df['bmi'].mean(), 1)\n",
    "\n",
    "strokes_df['bmi'].fillna(mean_bmi, inplace=True)\n",
    "\n",
    "strokes_df.head()"
   ]
  },
  {
   "cell_type": "code",
   "execution_count": null,
   "id": "17b24a1c",
   "metadata": {},
   "outputs": [],
   "source": [
    "# Replace 'Unknown' smoking status with 'never smoked' for children under 10\n",
    "strokes_df.loc[strokes_df['age'] <= 10, 'smoking_status'] = strokes_df.loc[strokes_df['age'] <= 10, \n",
    "                                                                           'smoking_status'].replace('Unknown', 'never smoked')"
   ]
  },
  {
   "cell_type": "code",
   "execution_count": null,
   "id": "dcf3cb8f",
   "metadata": {},
   "outputs": [],
   "source": [
    "# Drop 'id'\n",
    "strokes_df.drop(columns='id', inplace=True)\n",
    "strokes_df.head()"
   ]
  },
  {
   "cell_type": "code",
   "execution_count": null,
   "id": "0eda2132",
   "metadata": {},
   "outputs": [],
   "source": [
    "strokes_df = strokes_df.reset_index(drop=True)\n",
    "strokes_df"
   ]
  },
  {
   "cell_type": "code",
   "execution_count": null,
   "id": "458c5e42",
   "metadata": {},
   "outputs": [],
   "source": [
    "# Standardize capitalization and spacing for column names\n",
    "strokes_df.rename(columns={'gender': 'Gender', 'age': 'Age', 'hypertension':'Hypertension', \n",
    "                           'heart_disease':'Heart Disease', 'ever_married':'Ever Married', 'work_type':'Work Type',\n",
    "                           'Residence_type': 'Residence Type', 'avg_glucose_level': 'Average Glucose Level',\n",
    "                           'bmi': 'BMI', 'smoking_status': 'Smoking Status', 'stroke': 'Stroke'}, inplace=True)\n",
    "\n",
    "strokes_df.columns"
   ]
  },
  {
   "cell_type": "code",
   "execution_count": null,
   "id": "ef5ff437",
   "metadata": {
    "scrolled": true
   },
   "outputs": [],
   "source": [
    "# Standardize capitalization for objects\n",
    "strokes_df['Smoking Status'] = strokes_df['Smoking Status'].replace('Unknown', 'unknown')\n",
    "strokes_df.head(10)"
   ]
  },
  {
   "cell_type": "code",
   "execution_count": null,
   "id": "76596dad",
   "metadata": {},
   "outputs": [],
   "source": [
    "strokes_df.to_csv('data/stroke_data.csv')"
   ]
  }
 ],
 "metadata": {
  "kernelspec": {
   "display_name": "Python 3 (ipykernel)",
   "language": "python",
   "name": "python3"
  },
  "language_info": {
   "codemirror_mode": {
    "name": "ipython",
    "version": 3
   },
   "file_extension": ".py",
   "mimetype": "text/x-python",
   "name": "python",
   "nbconvert_exporter": "python",
   "pygments_lexer": "ipython3",
   "version": "3.10.13"
  }
 },
 "nbformat": 4,
 "nbformat_minor": 5
}
