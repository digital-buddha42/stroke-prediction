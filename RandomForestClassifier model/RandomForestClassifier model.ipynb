{
 "cells": [
  {
   "cell_type": "code",
   "execution_count": 1,
   "id": "edfb5c5c",
   "metadata": {},
   "outputs": [],
   "source": [
    "import pandas as pd\n",
    "from sklearn.model_selection import train_test_split\n",
    "from sklearn.ensemble import RandomForestClassifier\n",
    "from sklearn.metrics import accuracy_score, classification_report\n",
    "from imblearn.over_sampling import SMOTE\n",
    "from sklearn.preprocessing import StandardScaler, OneHotEncoder\n",
    "from sklearn.compose import ColumnTransformer\n",
    "from sklearn.pipeline import Pipeline\n",
    "from pathlib import Path"
   ]
  },
  {
   "cell_type": "code",
   "execution_count": 2,
   "id": "7edc218a",
   "metadata": {},
   "outputs": [
    {
     "name": "stdout",
     "output_type": "stream",
     "text": [
      "   Unnamed: 0  Gender   Age  Hypertension  Heart Disease Ever Married  \\\n",
      "0           0    Male  67.0             0              1          Yes   \n",
      "1           1  Female  61.0             0              0          Yes   \n",
      "2           2    Male  80.0             0              1          Yes   \n",
      "3           3  Female  49.0             0              0          Yes   \n",
      "4           4  Female  79.0             1              0          Yes   \n",
      "\n",
      "       Work Type Residence Type  Average Glucose Level   BMI   Smoking Status  \\\n",
      "0        Private          Urban                 228.69  36.6  formerly smoked   \n",
      "1  Self-employed          Rural                 202.21  28.9     never smoked   \n",
      "2        Private          Rural                 105.92  32.5     never smoked   \n",
      "3        Private          Urban                 171.23  34.4           smokes   \n",
      "4  Self-employed          Rural                 174.12  24.0     never smoked   \n",
      "\n",
      "   Stroke  \n",
      "0       1  \n",
      "1       1  \n",
      "2       1  \n",
      "3       1  \n",
      "4       1  \n"
     ]
    }
   ],
   "source": [
    "# Load the dataset\n",
    "file_path = Path(\"../data/stroke_data.csv\")\n",
    "df = pd.read_csv(file_path)\n",
    "\n",
    "# Display the first few rows of the data\n",
    "print(df.head())\n"
   ]
  },
  {
   "cell_type": "code",
   "execution_count": 3,
   "id": "676505b3",
   "metadata": {},
   "outputs": [],
   "source": [
    "# Drop the 'Stroke' column for the features and labels\n",
    "X = df.drop('Stroke', axis=1)\n",
    "y = df['Stroke']\n"
   ]
  },
  {
   "cell_type": "code",
   "execution_count": 4,
   "id": "e294026d",
   "metadata": {},
   "outputs": [],
   "source": [
    "# Split the data into training and testing sets\n",
    "X_train, X_test, y_train, y_test = train_test_split(X, y, test_size=0.2, random_state=42)\n"
   ]
  },
  {
   "cell_type": "code",
   "execution_count": 5,
   "id": "f4fa39a3",
   "metadata": {},
   "outputs": [],
   "source": [
    "# Define the columns to be encoded and scaled\n",
    "categorical_cols = ['Gender', 'Ever Married', 'Work Type', 'Residence Type', 'Smoking Status']\n",
    "numerical_cols = ['Age', 'Average Glucose Level', 'BMI']\n"
   ]
  },
  {
   "cell_type": "code",
   "execution_count": 6,
   "id": "ab86d920",
   "metadata": {},
   "outputs": [],
   "source": [
    "# Create transformers for encoding and scaling\n",
    "preprocessor = ColumnTransformer(\n",
    "    transformers=[\n",
    "        ('num', StandardScaler(), numerical_cols),\n",
    "        ('cat', OneHotEncoder(handle_unknown='ignore'), categorical_cols)\n",
    "    ])\n"
   ]
  },
  {
   "cell_type": "code",
   "execution_count": 7,
   "id": "1c8d4031",
   "metadata": {},
   "outputs": [],
   "source": [
    "# Create a pipeline without SMOTE\n",
    "pipeline_without_smote = Pipeline(steps=[\n",
    "    ('preprocessor', preprocessor),\n",
    "    ('classifier', RandomForestClassifier(random_state=42))\n",
    "])"
   ]
  },
  {
   "cell_type": "code",
   "execution_count": 8,
   "id": "52fcf130",
   "metadata": {},
   "outputs": [
    {
     "data": {
      "text/html": [
       "<style>#sk-container-id-1 {color: black;}#sk-container-id-1 pre{padding: 0;}#sk-container-id-1 div.sk-toggleable {background-color: white;}#sk-container-id-1 label.sk-toggleable__label {cursor: pointer;display: block;width: 100%;margin-bottom: 0;padding: 0.3em;box-sizing: border-box;text-align: center;}#sk-container-id-1 label.sk-toggleable__label-arrow:before {content: \"▸\";float: left;margin-right: 0.25em;color: #696969;}#sk-container-id-1 label.sk-toggleable__label-arrow:hover:before {color: black;}#sk-container-id-1 div.sk-estimator:hover label.sk-toggleable__label-arrow:before {color: black;}#sk-container-id-1 div.sk-toggleable__content {max-height: 0;max-width: 0;overflow: hidden;text-align: left;background-color: #f0f8ff;}#sk-container-id-1 div.sk-toggleable__content pre {margin: 0.2em;color: black;border-radius: 0.25em;background-color: #f0f8ff;}#sk-container-id-1 input.sk-toggleable__control:checked~div.sk-toggleable__content {max-height: 200px;max-width: 100%;overflow: auto;}#sk-container-id-1 input.sk-toggleable__control:checked~label.sk-toggleable__label-arrow:before {content: \"▾\";}#sk-container-id-1 div.sk-estimator input.sk-toggleable__control:checked~label.sk-toggleable__label {background-color: #d4ebff;}#sk-container-id-1 div.sk-label input.sk-toggleable__control:checked~label.sk-toggleable__label {background-color: #d4ebff;}#sk-container-id-1 input.sk-hidden--visually {border: 0;clip: rect(1px 1px 1px 1px);clip: rect(1px, 1px, 1px, 1px);height: 1px;margin: -1px;overflow: hidden;padding: 0;position: absolute;width: 1px;}#sk-container-id-1 div.sk-estimator {font-family: monospace;background-color: #f0f8ff;border: 1px dotted black;border-radius: 0.25em;box-sizing: border-box;margin-bottom: 0.5em;}#sk-container-id-1 div.sk-estimator:hover {background-color: #d4ebff;}#sk-container-id-1 div.sk-parallel-item::after {content: \"\";width: 100%;border-bottom: 1px solid gray;flex-grow: 1;}#sk-container-id-1 div.sk-label:hover label.sk-toggleable__label {background-color: #d4ebff;}#sk-container-id-1 div.sk-serial::before {content: \"\";position: absolute;border-left: 1px solid gray;box-sizing: border-box;top: 0;bottom: 0;left: 50%;z-index: 0;}#sk-container-id-1 div.sk-serial {display: flex;flex-direction: column;align-items: center;background-color: white;padding-right: 0.2em;padding-left: 0.2em;position: relative;}#sk-container-id-1 div.sk-item {position: relative;z-index: 1;}#sk-container-id-1 div.sk-parallel {display: flex;align-items: stretch;justify-content: center;background-color: white;position: relative;}#sk-container-id-1 div.sk-item::before, #sk-container-id-1 div.sk-parallel-item::before {content: \"\";position: absolute;border-left: 1px solid gray;box-sizing: border-box;top: 0;bottom: 0;left: 50%;z-index: -1;}#sk-container-id-1 div.sk-parallel-item {display: flex;flex-direction: column;z-index: 1;position: relative;background-color: white;}#sk-container-id-1 div.sk-parallel-item:first-child::after {align-self: flex-end;width: 50%;}#sk-container-id-1 div.sk-parallel-item:last-child::after {align-self: flex-start;width: 50%;}#sk-container-id-1 div.sk-parallel-item:only-child::after {width: 0;}#sk-container-id-1 div.sk-dashed-wrapped {border: 1px dashed gray;margin: 0 0.4em 0.5em 0.4em;box-sizing: border-box;padding-bottom: 0.4em;background-color: white;}#sk-container-id-1 div.sk-label label {font-family: monospace;font-weight: bold;display: inline-block;line-height: 1.2em;}#sk-container-id-1 div.sk-label-container {text-align: center;}#sk-container-id-1 div.sk-container {/* jupyter's `normalize.less` sets `[hidden] { display: none; }` but bootstrap.min.css set `[hidden] { display: none !important; }` so we also need the `!important` here to be able to override the default hidden behavior on the sphinx rendered scikit-learn.org. See: https://github.com/scikit-learn/scikit-learn/issues/21755 */display: inline-block !important;position: relative;}#sk-container-id-1 div.sk-text-repr-fallback {display: none;}</style><div id=\"sk-container-id-1\" class=\"sk-top-container\"><div class=\"sk-text-repr-fallback\"><pre>Pipeline(steps=[(&#x27;preprocessor&#x27;,\n",
       "                 ColumnTransformer(transformers=[(&#x27;num&#x27;, StandardScaler(),\n",
       "                                                  [&#x27;Age&#x27;,\n",
       "                                                   &#x27;Average Glucose Level&#x27;,\n",
       "                                                   &#x27;BMI&#x27;]),\n",
       "                                                 (&#x27;cat&#x27;,\n",
       "                                                  OneHotEncoder(handle_unknown=&#x27;ignore&#x27;),\n",
       "                                                  [&#x27;Gender&#x27;, &#x27;Ever Married&#x27;,\n",
       "                                                   &#x27;Work Type&#x27;,\n",
       "                                                   &#x27;Residence Type&#x27;,\n",
       "                                                   &#x27;Smoking Status&#x27;])])),\n",
       "                (&#x27;classifier&#x27;, RandomForestClassifier(random_state=42))])</pre><b>In a Jupyter environment, please rerun this cell to show the HTML representation or trust the notebook. <br />On GitHub, the HTML representation is unable to render, please try loading this page with nbviewer.org.</b></div><div class=\"sk-container\" hidden><div class=\"sk-item sk-dashed-wrapped\"><div class=\"sk-label-container\"><div class=\"sk-label sk-toggleable\"><input class=\"sk-toggleable__control sk-hidden--visually\" id=\"sk-estimator-id-1\" type=\"checkbox\" ><label for=\"sk-estimator-id-1\" class=\"sk-toggleable__label sk-toggleable__label-arrow\">Pipeline</label><div class=\"sk-toggleable__content\"><pre>Pipeline(steps=[(&#x27;preprocessor&#x27;,\n",
       "                 ColumnTransformer(transformers=[(&#x27;num&#x27;, StandardScaler(),\n",
       "                                                  [&#x27;Age&#x27;,\n",
       "                                                   &#x27;Average Glucose Level&#x27;,\n",
       "                                                   &#x27;BMI&#x27;]),\n",
       "                                                 (&#x27;cat&#x27;,\n",
       "                                                  OneHotEncoder(handle_unknown=&#x27;ignore&#x27;),\n",
       "                                                  [&#x27;Gender&#x27;, &#x27;Ever Married&#x27;,\n",
       "                                                   &#x27;Work Type&#x27;,\n",
       "                                                   &#x27;Residence Type&#x27;,\n",
       "                                                   &#x27;Smoking Status&#x27;])])),\n",
       "                (&#x27;classifier&#x27;, RandomForestClassifier(random_state=42))])</pre></div></div></div><div class=\"sk-serial\"><div class=\"sk-item sk-dashed-wrapped\"><div class=\"sk-label-container\"><div class=\"sk-label sk-toggleable\"><input class=\"sk-toggleable__control sk-hidden--visually\" id=\"sk-estimator-id-2\" type=\"checkbox\" ><label for=\"sk-estimator-id-2\" class=\"sk-toggleable__label sk-toggleable__label-arrow\">preprocessor: ColumnTransformer</label><div class=\"sk-toggleable__content\"><pre>ColumnTransformer(transformers=[(&#x27;num&#x27;, StandardScaler(),\n",
       "                                 [&#x27;Age&#x27;, &#x27;Average Glucose Level&#x27;, &#x27;BMI&#x27;]),\n",
       "                                (&#x27;cat&#x27;, OneHotEncoder(handle_unknown=&#x27;ignore&#x27;),\n",
       "                                 [&#x27;Gender&#x27;, &#x27;Ever Married&#x27;, &#x27;Work Type&#x27;,\n",
       "                                  &#x27;Residence Type&#x27;, &#x27;Smoking Status&#x27;])])</pre></div></div></div><div class=\"sk-parallel\"><div class=\"sk-parallel-item\"><div class=\"sk-item\"><div class=\"sk-label-container\"><div class=\"sk-label sk-toggleable\"><input class=\"sk-toggleable__control sk-hidden--visually\" id=\"sk-estimator-id-3\" type=\"checkbox\" ><label for=\"sk-estimator-id-3\" class=\"sk-toggleable__label sk-toggleable__label-arrow\">num</label><div class=\"sk-toggleable__content\"><pre>[&#x27;Age&#x27;, &#x27;Average Glucose Level&#x27;, &#x27;BMI&#x27;]</pre></div></div></div><div class=\"sk-serial\"><div class=\"sk-item\"><div class=\"sk-estimator sk-toggleable\"><input class=\"sk-toggleable__control sk-hidden--visually\" id=\"sk-estimator-id-4\" type=\"checkbox\" ><label for=\"sk-estimator-id-4\" class=\"sk-toggleable__label sk-toggleable__label-arrow\">StandardScaler</label><div class=\"sk-toggleable__content\"><pre>StandardScaler()</pre></div></div></div></div></div></div><div class=\"sk-parallel-item\"><div class=\"sk-item\"><div class=\"sk-label-container\"><div class=\"sk-label sk-toggleable\"><input class=\"sk-toggleable__control sk-hidden--visually\" id=\"sk-estimator-id-5\" type=\"checkbox\" ><label for=\"sk-estimator-id-5\" class=\"sk-toggleable__label sk-toggleable__label-arrow\">cat</label><div class=\"sk-toggleable__content\"><pre>[&#x27;Gender&#x27;, &#x27;Ever Married&#x27;, &#x27;Work Type&#x27;, &#x27;Residence Type&#x27;, &#x27;Smoking Status&#x27;]</pre></div></div></div><div class=\"sk-serial\"><div class=\"sk-item\"><div class=\"sk-estimator sk-toggleable\"><input class=\"sk-toggleable__control sk-hidden--visually\" id=\"sk-estimator-id-6\" type=\"checkbox\" ><label for=\"sk-estimator-id-6\" class=\"sk-toggleable__label sk-toggleable__label-arrow\">OneHotEncoder</label><div class=\"sk-toggleable__content\"><pre>OneHotEncoder(handle_unknown=&#x27;ignore&#x27;)</pre></div></div></div></div></div></div></div></div><div class=\"sk-item\"><div class=\"sk-estimator sk-toggleable\"><input class=\"sk-toggleable__control sk-hidden--visually\" id=\"sk-estimator-id-7\" type=\"checkbox\" ><label for=\"sk-estimator-id-7\" class=\"sk-toggleable__label sk-toggleable__label-arrow\">RandomForestClassifier</label><div class=\"sk-toggleable__content\"><pre>RandomForestClassifier(random_state=42)</pre></div></div></div></div></div></div></div>"
      ],
      "text/plain": [
       "Pipeline(steps=[('preprocessor',\n",
       "                 ColumnTransformer(transformers=[('num', StandardScaler(),\n",
       "                                                  ['Age',\n",
       "                                                   'Average Glucose Level',\n",
       "                                                   'BMI']),\n",
       "                                                 ('cat',\n",
       "                                                  OneHotEncoder(handle_unknown='ignore'),\n",
       "                                                  ['Gender', 'Ever Married',\n",
       "                                                   'Work Type',\n",
       "                                                   'Residence Type',\n",
       "                                                   'Smoking Status'])])),\n",
       "                ('classifier', RandomForestClassifier(random_state=42))])"
      ]
     },
     "execution_count": 8,
     "metadata": {},
     "output_type": "execute_result"
    }
   ],
   "source": [
    "# Fit the pipeline without SMOTE\n",
    "pipeline_without_smote.fit(X_train, y_train)"
   ]
  },
  {
   "cell_type": "code",
   "execution_count": 9,
   "id": "3e8d43f4",
   "metadata": {},
   "outputs": [],
   "source": [
    "# Make predictions on the test set\n",
    "y_pred_without_smote = pipeline_without_smote.predict(X_test)\n"
   ]
  },
  {
   "cell_type": "code",
   "execution_count": 10,
   "id": "edbd6287",
   "metadata": {},
   "outputs": [
    {
     "name": "stdout",
     "output_type": "stream",
     "text": [
      "Accuracy without SMOTE: 0.94\n",
      "Classification Report without SMOTE:\n",
      "               precision    recall  f1-score   support\n",
      "\n",
      "           0       0.94      1.00      0.97       960\n",
      "           1       0.50      0.02      0.03        62\n",
      "\n",
      "    accuracy                           0.94      1022\n",
      "   macro avg       0.72      0.51      0.50      1022\n",
      "weighted avg       0.91      0.94      0.91      1022\n",
      "\n"
     ]
    }
   ],
   "source": [
    "# Evaluate the model without SMOTE\n",
    "accuracy_without_smote = accuracy_score(y_test, y_pred_without_smote)\n",
    "print(f\"Accuracy without SMOTE: {accuracy_without_smote:.2f}\")\n",
    "\n",
    "# Display classification report without SMOTE\n",
    "print(\"Classification Report without SMOTE:\\n\", classification_report(y_test, y_pred_without_smote))\n"
   ]
  },
  {
   "cell_type": "code",
   "execution_count": 11,
   "id": "eb22c8a5",
   "metadata": {},
   "outputs": [],
   "source": [
    "# Separate numerical and categorical columns\n",
    "numerical_cols = ['Age', 'Average Glucose Level', 'BMI']\n",
    "categorical_cols = ['Gender', 'Ever Married', 'Work Type', 'Residence Type', 'Smoking Status']\n"
   ]
  },
  {
   "cell_type": "code",
   "execution_count": 12,
   "id": "6310a8c8",
   "metadata": {},
   "outputs": [],
   "source": [
    "# Extract numerical features\n",
    "X_train_numerical = X_train[numerical_cols]\n",
    "X_test_numerical = X_test[numerical_cols]"
   ]
  },
  {
   "cell_type": "code",
   "execution_count": 13,
   "id": "c4724ae7",
   "metadata": {},
   "outputs": [],
   "source": [
    "# Apply SMOTE only to numerical features\n",
    "X_train_resampled, y_train_resampled = SMOTE(random_state=42).fit_resample(X_train_numerical, y_train)\n"
   ]
  },
  {
   "cell_type": "code",
   "execution_count": 14,
   "id": "5fcc85db",
   "metadata": {},
   "outputs": [],
   "source": [
    "# Combine resampled numerical features with categorical features\n",
    "X_train_resampled = pd.concat([X_train_resampled, X_train[categorical_cols]], axis=1)\n"
   ]
  },
  {
   "cell_type": "code",
   "execution_count": 15,
   "id": "f708d4c3",
   "metadata": {},
   "outputs": [],
   "source": [
    "# Update the transformer for encoding in the preprocessor\n",
    "preprocessor = ColumnTransformer(\n",
    "    transformers=[\n",
    "        ('num', StandardScaler(), numerical_cols),\n",
    "        ('cat', OneHotEncoder(handle_unknown='ignore'), categorical_cols)\n",
    "    ])\n"
   ]
  },
  {
   "cell_type": "code",
   "execution_count": 16,
   "id": "b968fe80",
   "metadata": {},
   "outputs": [],
   "source": [
    "# Create a pipeline with SMOTE\n",
    "pipeline_with_smote = Pipeline(steps=[\n",
    "    ('preprocessor', preprocessor),\n",
    "    ('classifier', RandomForestClassifier(random_state=42))\n",
    "])"
   ]
  },
  {
   "cell_type": "code",
   "execution_count": 17,
   "id": "c8c70fed",
   "metadata": {},
   "outputs": [],
   "source": [
    "# Fit the pipeline with SMOTE\n",
    "pipeline_with_smote.fit(X_train_resampled, y_train_resampled)\n",
    "\n",
    "# Make predictions on the test set\n",
    "y_pred_with_smote = pipeline_with_smote.predict(X_test)\n"
   ]
  },
  {
   "cell_type": "code",
   "execution_count": 19,
   "id": "135368ca",
   "metadata": {},
   "outputs": [
    {
     "name": "stdout",
     "output_type": "stream",
     "text": [
      "Accuracy with SMOTE: 0.89\n",
      "Classification Report with SMOTE:\n",
      "               precision    recall  f1-score   support\n",
      "\n",
      "           0       0.96      0.93      0.94       960\n",
      "           1       0.24      0.37      0.29        62\n",
      "\n",
      "    accuracy                           0.89      1022\n",
      "   macro avg       0.60      0.65      0.62      1022\n",
      "weighted avg       0.91      0.89      0.90      1022\n",
      "\n"
     ]
    }
   ],
   "source": [
    "# Evaluate the model with SMOTE\n",
    "accuracy_with_smote = accuracy_score(y_test, y_pred_with_smote)\n",
    "print(f\"Accuracy with SMOTE: {accuracy_with_smote:.2f}\")\n",
    "\n",
    "# Display classification report with SMOTE\n",
    "print(\"Classification Report with SMOTE:\\n\", classification_report(y_test, y_pred_with_smote))\n"
   ]
  },
  {
   "cell_type": "code",
   "execution_count": null,
   "id": "6a8fec9b",
   "metadata": {},
   "outputs": [],
   "source": []
  }
 ],
 "metadata": {
  "kernelspec": {
   "display_name": "Python 3 (ipykernel)",
   "language": "python",
   "name": "python3"
  },
  "language_info": {
   "codemirror_mode": {
    "name": "ipython",
    "version": 3
   },
   "file_extension": ".py",
   "mimetype": "text/x-python",
   "name": "python",
   "nbconvert_exporter": "python",
   "pygments_lexer": "ipython3",
   "version": "3.10.12"
  }
 },
 "nbformat": 4,
 "nbformat_minor": 5
}
